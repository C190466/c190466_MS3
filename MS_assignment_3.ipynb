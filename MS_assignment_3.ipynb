{
  "cells": [
    {
      "metadata": {
        "trusted": true
      },
      "cell_type": "markdown",
      "source": "# 数理統計学(2019)　前期期末課題（課題3）\n\n### このnotebookには、いくつかの設問が記載されています。\n### 先頭から順番に、指示に従ってPython Codeをcellに記述してください。\n### codeを記述するcellは、各自適切に生成してください。\n\n### ぜひ、楽しみながら課題に取り組んでください。\n\n\n## <span style=\"color: red; \">課題提出期限</span>\n\n# <span style=\"color: red;\">2019年7月1日（月）17時30分</span>\n\n\n\n## 課題提出方法\n### 各自のGitHubに、学籍番号_MS3（たとえば、C180001_MS3）という名称のrepositoryを作成してください。\n### このnotebookを各自のGitHubのリポジトリ（学籍番号_MS3)へコピーしてください。\n### このnotebookに記載されたcodeは、データファイルms3_1_cov.csvを参照しています。そこで、このデータファイルも必ずGitHubのリポジトリへコピーしてください。\n### 各自のGitHubのリポジトリをoffice 365のメールアカウントを使用して、sugimura@ccg.ac.jpへ送信してください。メールの件名は、学籍番号_MS3としてください。\n### 【重要】指定された方法で課題を提出することも課題に含まれています。"
    },
    {
      "metadata": {},
      "cell_type": "markdown",
      "source": "## 【設問１】\n### データを可視化するプログラムについての設問です。問題文をよく読み、問題文の指示にしたがって必要なセルを作成し、コードを記述してください。\n### では、新しいセルを作成し、以下の通り、必要なライブラリをインポートするコードを実行してください。\n#### 数値計算に使うライブラリ\n#### import numpy as np\n#### import pandas as pd\n#### グラフを描画するライブラリ\n#### from matplotlib import pyplot as plt\n#### グラフをJupyter Notebook内に表示させるための指定\n#### %matplotlib inline\n"
    },
    {
      "metadata": {
        "trusted": true
      },
      "cell_type": "code",
      "source": "#### 数値計算に使うライブラリ\nimport numpy as np\nimport pandas as pd\n#### グラフを描画するライブラリ\nfrom matplotlib import pyplot as plt\n#### グラフをJupyter Notebook内に表示させるための指定\n%matplotlib inline",
      "execution_count": 37,
      "outputs": []
    },
    {
      "metadata": {},
      "cell_type": "markdown",
      "source": "### 次に、折れ線グラフ(Line graph)を作成します。\n### アレイ型データxとyを生成し、(x, y)の点をつなぐ折れ線グラフを描くコードは以下の通りです。コードを実行してください。"
    },
    {
      "metadata": {
        "trusted": true
      },
      "cell_type": "code",
      "source": "x = np.array([1, 2, 3, 4, 5, 6, 7, 8, 9])\ny = np.array([2, 3, 4, 3, 5, 4, 6, 7, 8])\n\n# 座標(x, y)に点を黒色でプロットします\nplt.plot(x, y, color = 'black')\n# グラフのタイトルを表示します\nplt.title('lineplot matlib')\n# x軸、ｙ軸のラベルを表示します\nplt.xlabel('x')\nplt.ylabel('y')",
      "execution_count": 38,
      "outputs": [
        {
          "output_type": "execute_result",
          "execution_count": 38,
          "data": {
            "text/plain": "Text(0, 0.5, 'y')"
          },
          "metadata": {}
        },
        {
          "output_type": "display_data",
          "data": {
            "image/png": "[encoded data removed]",
            "text/plain": "<Figure size 432x288 with 1 Axes>"
          },
          "metadata": {
            "needs_background": "light"
          }
        }
      ]
    },
    {
      "metadata": {},
      "cell_type": "markdown",
      "source": "## 【設問１－１】解答"
    },
    {
      "metadata": {},
      "cell_type": "markdown",
      "source": "### 表示できましたか？\n\n### それでは、(x, y)が、\n#### (1, 1)  (2, 4)  (3, 0)  (4, -1) (5, 1) (6, 4) (7, 8) (8, 5) (9, 7)\n### である点をつなぐ折れ線グラフを赤色で表示してください。\n### 赤色で表示するためには、plt.plot()の引数colorに'red'を設定してください。"
    },
    {
      "metadata": {
        "trusted": true
      },
      "cell_type": "code",
      "source": "x = np.array([1, 2, 3, 4, 5, 6, 7, 8, 9])\ny = np.array([1, 4, 0, -1, 1, 4, 8, 5, 7])\nplt.plot(x, y, color = 'blue')\nplt.title('lineplot matlib')\nplt.xlabel('x')\nplt.ylabel('y')",
      "execution_count": 39,
      "outputs": [
        {
          "output_type": "execute_result",
          "execution_count": 39,
          "data": {
            "text/plain": "Text(0, 0.5, 'y')"
          },
          "metadata": {}
        },
        {
          "output_type": "display_data",
          "data": {
            "image/png": "[encoded data removed]",
            "text/plain": "<Figure size 432x288 with 1 Axes>"
          },
          "metadata": {
            "needs_background": "light"
          }
        }
      ]
    },
    {
      "metadata": {},
      "cell_type": "markdown",
      "source": "## 【設問１－２】解答"
    },
    {
      "metadata": {},
      "cell_type": "markdown",
      "source": "## 【設問２】\n### 中央情報専門学校1Ｍクラスの学生12名の成績を分析しようと思います。\n### 試験結果は、DataFrame型データsample_df_1に保存しました。\n### データsample_df_1は、学生番号を表すIDと、試験得点を表すSCOREと、成績を表すGRADEとを含む3列で構成されています。\n### ただし、GRADEの値は、すべてＦで初期化されています。\n"
    },
    {
      "metadata": {
        "trusted": true
      },
      "cell_type": "code",
      "source": "df_1 = pd.DataFrame({\n    'ID': [1, 2, 3, 4, 5, 6, 7, 8, 9, 10, 11, 12],\n    'SCORE': [40, 50, 75, 80, 90, 74, 85, 55, 20, 76, 49, 92],\n    'GRADE': ['F', 'F', 'F', 'F', 'F', 'F', 'F', 'F', 'F', 'F', 'F', 'F']\n})\n\ndf_1",
      "execution_count": 40,
      "outputs": [
        {
          "output_type": "execute_result",
          "execution_count": 40,
          "data": {
            "text/html": "<div>\n<style scoped>\n    .dataframe tbody tr th:only-of-type {\n        vertical-align: middle;\n    }\n\n    .dataframe tbody tr th {\n        vertical-align: top;\n    }\n\n    .dataframe thead th {\n        text-align: right;\n    }\n</style>\n<table border=\"1\" class=\"dataframe\">\n  <thead>\n    <tr style=\"text-align: right;\">\n      <th></th>\n      <th>ID</th>\n      <th>SCORE</th>\n      <th>GRADE</th>\n    </tr>\n  </thead>\n  <tbody>\n    <tr>\n      <th>0</th>\n      <td>1</td>\n      <td>40</td>\n      <td>F</td>\n    </tr>\n    <tr>\n      <th>1</th>\n      <td>2</td>\n      <td>50</td>\n      <td>F</td>\n    </tr>\n    <tr>\n      <th>2</th>\n      <td>3</td>\n      <td>75</td>\n      <td>F</td>\n    </tr>\n    <tr>\n      <th>3</th>\n      <td>4</td>\n      <td>80</td>\n      <td>F</td>\n    </tr>\n    <tr>\n      <th>4</th>\n      <td>5</td>\n      <td>90</td>\n      <td>F</td>\n    </tr>\n    <tr>\n      <th>5</th>\n      <td>6</td>\n      <td>74</td>\n      <td>F</td>\n    </tr>\n    <tr>\n      <th>6</th>\n      <td>7</td>\n      <td>85</td>\n      <td>F</td>\n    </tr>\n    <tr>\n      <th>7</th>\n      <td>8</td>\n      <td>55</td>\n      <td>F</td>\n    </tr>\n    <tr>\n      <th>8</th>\n      <td>9</td>\n      <td>20</td>\n      <td>F</td>\n    </tr>\n    <tr>\n      <th>9</th>\n      <td>10</td>\n      <td>76</td>\n      <td>F</td>\n    </tr>\n    <tr>\n      <th>10</th>\n      <td>11</td>\n      <td>49</td>\n      <td>F</td>\n    </tr>\n    <tr>\n      <th>11</th>\n      <td>12</td>\n      <td>92</td>\n      <td>F</td>\n    </tr>\n  </tbody>\n</table>\n</div>",
            "text/plain": "    ID  SCORE GRADE\n0    1     40     F\n1    2     50     F\n2    3     75     F\n3    4     80     F\n4    5     90     F\n5    6     74     F\n6    7     85     F\n7    8     55     F\n8    9     20     F\n9   10     76     F\n10  11     49     F\n11  12     92     F"
          },
          "metadata": {}
        }
      ]
    },
    {
      "metadata": {},
      "cell_type": "markdown",
      "source": "### 成績GRADEは、試験得点SCOREに応じて次のように決定します。\n\n|試験得点SCORE範囲|GRADE|\n|-----|----|\n|0 -   49|E|\n|50 -  64|D|\n|65 -  74|C|\n|75 -  90|B|\n|91 - 100|A|\n\n### データdf_1の試験得点SCOREの成績GRADEを判定し、データdf_1のGRADEに設定してください。\n\n## 【設問２－１】解答"
    },
    {
      "metadata": {
        "trusted": true
      },
      "cell_type": "code",
      "source": "df_1 = pd.DataFrame({\n     'ID': [1, 2, 3, 4, 5, 6, 7, 8, 9, 10, 11, 12],\n     'SCORE': [40, 50, 75, 80, 90, 74, 85, 55, 20, 76, 49, 92],\n     'GRADE': ['E','D','C','B','B','C','B','D','E','B','E','A']\n})\n\ndf_1\n    ",
      "execution_count": 41,
      "outputs": [
        {
          "output_type": "execute_result",
          "execution_count": 41,
          "data": {
            "text/html": "<div>\n<style scoped>\n    .dataframe tbody tr th:only-of-type {\n        vertical-align: middle;\n    }\n\n    .dataframe tbody tr th {\n        vertical-align: top;\n    }\n\n    .dataframe thead th {\n        text-align: right;\n    }\n</style>\n<table border=\"1\" class=\"dataframe\">\n  <thead>\n    <tr style=\"text-align: right;\">\n      <th></th>\n      <th>ID</th>\n      <th>SCORE</th>\n      <th>GRADE</th>\n    </tr>\n  </thead>\n  <tbody>\n    <tr>\n      <th>0</th>\n      <td>1</td>\n      <td>40</td>\n      <td>E</td>\n    </tr>\n    <tr>\n      <th>1</th>\n      <td>2</td>\n      <td>50</td>\n      <td>D</td>\n    </tr>\n    <tr>\n      <th>2</th>\n      <td>3</td>\n      <td>75</td>\n      <td>C</td>\n    </tr>\n    <tr>\n      <th>3</th>\n      <td>4</td>\n      <td>80</td>\n      <td>B</td>\n    </tr>\n    <tr>\n      <th>4</th>\n      <td>5</td>\n      <td>90</td>\n      <td>B</td>\n    </tr>\n    <tr>\n      <th>5</th>\n      <td>6</td>\n      <td>74</td>\n      <td>C</td>\n    </tr>\n    <tr>\n      <th>6</th>\n      <td>7</td>\n      <td>85</td>\n      <td>B</td>\n    </tr>\n    <tr>\n      <th>7</th>\n      <td>8</td>\n      <td>55</td>\n      <td>D</td>\n    </tr>\n    <tr>\n      <th>8</th>\n      <td>9</td>\n      <td>20</td>\n      <td>E</td>\n    </tr>\n    <tr>\n      <th>9</th>\n      <td>10</td>\n      <td>76</td>\n      <td>B</td>\n    </tr>\n    <tr>\n      <th>10</th>\n      <td>11</td>\n      <td>49</td>\n      <td>E</td>\n    </tr>\n    <tr>\n      <th>11</th>\n      <td>12</td>\n      <td>92</td>\n      <td>A</td>\n    </tr>\n  </tbody>\n</table>\n</div>",
            "text/plain": "    ID  SCORE GRADE\n0    1     40     E\n1    2     50     D\n2    3     75     C\n3    4     80     B\n4    5     90     B\n5    6     74     C\n6    7     85     B\n7    8     55     D\n8    9     20     E\n9   10     76     B\n10  11     49     E\n11  12     92     A"
          },
          "metadata": {}
        }
      ]
    },
    {
      "metadata": {
        "trusted": true
      },
      "cell_type": "markdown",
      "source": "【設問３】\n 上記データdf_1のSCOREの平均と標準偏差を求め、小数点以下２桁で表示してください。\nなお、標準偏差は、標本標準偏差または不偏標準偏差のどちらでもかまいません。"
    },
    {
      "metadata": {
        "trusted": true
      },
      "cell_type": "code",
      "source": "",
      "execution_count": null,
      "outputs": []
    },
    {
      "metadata": {},
      "cell_type": "markdown",
      "source": "## 【設問３－１】平均　解答"
    },
    {
      "metadata": {
        "trusted": true
      },
      "cell_type": "code",
      "source": "df_1.sum()",
      "execution_count": 42,
      "outputs": [
        {
          "output_type": "execute_result",
          "execution_count": 42,
          "data": {
            "text/plain": "ID                 78\nSCORE             786\nGRADE    EDCBBCBDEBEA\ndtype: object"
          },
          "metadata": {}
        }
      ]
    },
    {
      "metadata": {},
      "cell_type": "markdown",
      "source": "## 【設問３－２】標準偏差　解答"
    },
    {
      "metadata": {},
      "cell_type": "markdown",
      "source": "## 【設問４】\n### 上記データdf_1をGRADEの順に並べ替えて、DataFrame型データdf_2に格納してください。ただし、同じGradeを獲得したデータ同士の間では、試験得点SCOREの降順（大きな値から小さな値の順）に並べてください。\n\n## 【設問４－１】解答\n"
    },
    {
      "metadata": {
        "trusted": true
      },
      "cell_type": "code",
      "source": "df_2 =  [40, 50, 75, 80, 90, 74, 85, 55, 20, 76, 49, 92]\ndf_2.sort()\ndf_2",
      "execution_count": 43,
      "outputs": [
        {
          "output_type": "execute_result",
          "execution_count": 43,
          "data": {
            "text/plain": "[20, 40, 49, 50, 55, 74, 75, 76, 80, 85, 90, 92]"
          },
          "metadata": {}
        }
      ]
    },
    {
      "metadata": {
        "trusted": true
      },
      "cell_type": "code",
      "source": "df_2.sort(reverse=True)\ndf_2",
      "execution_count": 45,
      "outputs": [
        {
          "output_type": "execute_result",
          "execution_count": 45,
          "data": {
            "text/plain": "[92, 90, 85, 80, 76, 75, 74, 55, 50, 49, 40, 20]"
          },
          "metadata": {}
        }
      ]
    },
    {
      "metadata": {
        "trusted": true
      },
      "cell_type": "markdown",
      "source": "## 【設問５】\n### 次に、数値型の変数1と数値型変数2の組合せをプロットします。このような２変数の組合せをプロットしたものは、散布図（さんぷず）と呼ばれます。\n\n## 【設問５－１】解答\n### ファイルms3_1_cov.csvをデータフレーム型データcov_dataに読み込み、cov_dataを表示させてください。"
    },
    {
      "metadata": {},
      "cell_type": "markdown",
      "source": "### ここでは、これまでに使っていたpyplotではなく、seabornの関数を使ってヒストグラムを描きます。\n### seabornをインポートし、sns.set()でグラフのデザインを変更します。\n### jointplotでグラフを描きます。グラフは、散布図とヒストグラムを含んでいます。"
    },
    {
      "metadata": {},
      "cell_type": "markdown",
      "source": "## 【設問６】\n### 設問５では、変数の個数は２個でしたが、現実世界のデータでは、変数の個数が３個以上になることがよくあります。\n### ここでは、ライブラリseabornに組み込まれているアヤメ(Iris)のデータを使ってペアプロットを行います。\n\n## 【設問６－１】解答\n### Irisのデータirisは、iris = sns.load_dataset('iris')　を実行すると読み込むことができます。\n### irisが正しく読み込めたことを確認するため、head()メソッドを使って、irisの先頭５行を表示させてください。\n"
    },
    {
      "metadata": {},
      "cell_type": "markdown",
      "source": "### 上記データirisは、データ分析のサンプルデータとしてよく知られているデータです。このデータには、アヤメの種類(species)ごとに、ガク(sepal)や花弁(petal)の長さ(length)と幅(width)が記録されています。\n\n## 【設問６－２】解答\n### データirisのデータ型を調べてください。"
    },
    {
      "metadata": {},
      "cell_type": "markdown",
      "source": "## 【設問６－３】解答\n### データirisは、DataFrame型であることがわかりましたね。実は、設問６－１において、head()メソッドを使うように指示されていましたから、irisのデータ型がDataFrame型であることは予想できたはずです。\n### それでは、DataFrame型データirisに関して、アヤメの種類(species)別にガクと花弁の長さ及び幅の平均値を求めてください。"
    },
    {
      "metadata": {},
      "cell_type": "markdown",
      "source": "### アヤメのデータの特徴をつかむことができましたか？\n### アヤメの種類ごとに大きさの違いがあるようにも見えますが、これだけではよくわかりません。\n### そこで、最後に、pairplot関数を使って、アヤメのデータの特徴を可視化しましょう。"
    },
    {
      "metadata": {
        "trusted": true
      },
      "cell_type": "code",
      "source": "sns.pairplot(iris, hue='species', palette = 'gray')",
      "execution_count": 44,
      "outputs": [
        {
          "output_type": "error",
          "ename": "NameError",
          "evalue": "name 'sns' is not defined",
          "traceback": [
            "\u001b[0;31m---------------------------------------------------------------------------\u001b[0m",
            "\u001b[0;31mNameError\u001b[0m                                 Traceback (most recent call last)",
            "\u001b[0;32m<ipython-input-44-d04e89ccab80>\u001b[0m in \u001b[0;36m<module>\u001b[0;34m\u001b[0m\n\u001b[0;32m----> 1\u001b[0;31m \u001b[0msns\u001b[0m\u001b[0;34m.\u001b[0m\u001b[0mpairplot\u001b[0m\u001b[0;34m(\u001b[0m\u001b[0miris\u001b[0m\u001b[0;34m,\u001b[0m \u001b[0mhue\u001b[0m\u001b[0;34m=\u001b[0m\u001b[0;34m'species'\u001b[0m\u001b[0;34m,\u001b[0m \u001b[0mpalette\u001b[0m \u001b[0;34m=\u001b[0m \u001b[0;34m'gray'\u001b[0m\u001b[0;34m)\u001b[0m\u001b[0;34m\u001b[0m\u001b[0m\n\u001b[0m",
            "\u001b[0;31mNameError\u001b[0m: name 'sns' is not defined"
          ]
        }
      ]
    },
    {
      "metadata": {},
      "cell_type": "markdown",
      "source": "## 課題３（期末課題）は、以上で終了です。データ分析の面白さを少しでも感じることができたでしょうか？\n## お疲れ様でした。"
    },
    {
      "metadata": {
        "trusted": true
      },
      "cell_type": "code",
      "source": "",
      "execution_count": null,
      "outputs": []
    }
  ],
  "metadata": {
    "kernelspec": {
      "name": "python36",
      "display_name": "Python 3.6",
      "language": "python"
    },
    "language_info": {
      "mimetype": "text/x-python",
      "nbconvert_exporter": "python",
      "name": "python",
      "pygments_lexer": "ipython3",
      "version": "3.6.6",
      "file_extension": ".py",
      "codemirror_mode": {
        "version": 3,
        "name": "ipython"
      }
    }
  },
  "nbformat": 4,
  "nbformat_minor": 2
}